{
 "cells": [
  {
   "cell_type": "code",
   "execution_count": null,
   "metadata": {},
   "outputs": [],
   "source": [
    "# Formação Cientista de Dados - Fernando Amaral e Jones Granatyr\n",
    "# Algoritmo Random Forest"
   ]
  },
  {
   "cell_type": "code",
   "execution_count": 1,
   "metadata": {
    "tags": []
   },
   "outputs": [],
   "source": [
    "# Importação das bibliotecas\n",
    "import os\n",
    "import pandas as pd\n",
    "from sklearn.model_selection import train_test_split\n",
    "from sklearn.preprocessing import LabelEncoder\n",
    "from sklearn.metrics import confusion_matrix, accuracy_score\n",
    "from sklearn.ensemble import RandomForestClassifier"
   ]
  },
  {
   "cell_type": "code",
   "execution_count": 2,
   "metadata": {
    "tags": []
   },
   "outputs": [
    {
     "data": {
      "text/html": [
       "<div>\n",
       "<style scoped>\n",
       "    .dataframe tbody tr th:only-of-type {\n",
       "        vertical-align: middle;\n",
       "    }\n",
       "\n",
       "    .dataframe tbody tr th {\n",
       "        vertical-align: top;\n",
       "    }\n",
       "\n",
       "    .dataframe thead th {\n",
       "        text-align: right;\n",
       "    }\n",
       "</style>\n",
       "<table border=\"1\" class=\"dataframe\">\n",
       "  <thead>\n",
       "    <tr style=\"text-align: right;\">\n",
       "      <th></th>\n",
       "      <th>checking_status</th>\n",
       "      <th>duration</th>\n",
       "      <th>credit_history</th>\n",
       "      <th>purpose</th>\n",
       "      <th>credit_amount</th>\n",
       "      <th>savings_status</th>\n",
       "      <th>employment</th>\n",
       "      <th>installment_commitment</th>\n",
       "      <th>personal_status</th>\n",
       "      <th>other_parties</th>\n",
       "      <th>...</th>\n",
       "      <th>property_magnitude</th>\n",
       "      <th>age</th>\n",
       "      <th>other_payment_plans</th>\n",
       "      <th>housing</th>\n",
       "      <th>existing_credits</th>\n",
       "      <th>job</th>\n",
       "      <th>num_dependents</th>\n",
       "      <th>own_telephone</th>\n",
       "      <th>foreign_worker</th>\n",
       "      <th>class</th>\n",
       "    </tr>\n",
       "  </thead>\n",
       "  <tbody>\n",
       "    <tr>\n",
       "      <th>0</th>\n",
       "      <td>&lt;0</td>\n",
       "      <td>6</td>\n",
       "      <td>'critical/other existing credit'</td>\n",
       "      <td>radio/tv</td>\n",
       "      <td>1169</td>\n",
       "      <td>'no known savings'</td>\n",
       "      <td>&gt;=7</td>\n",
       "      <td>4</td>\n",
       "      <td>'male single'</td>\n",
       "      <td>none</td>\n",
       "      <td>...</td>\n",
       "      <td>'real estate'</td>\n",
       "      <td>67</td>\n",
       "      <td>none</td>\n",
       "      <td>own</td>\n",
       "      <td>2</td>\n",
       "      <td>skilled</td>\n",
       "      <td>1</td>\n",
       "      <td>yes</td>\n",
       "      <td>yes</td>\n",
       "      <td>good</td>\n",
       "    </tr>\n",
       "    <tr>\n",
       "      <th>1</th>\n",
       "      <td>0&lt;=X&lt;200</td>\n",
       "      <td>48</td>\n",
       "      <td>'existing paid'</td>\n",
       "      <td>radio/tv</td>\n",
       "      <td>5951</td>\n",
       "      <td>&lt;100</td>\n",
       "      <td>1&lt;=X&lt;4</td>\n",
       "      <td>2</td>\n",
       "      <td>'female div/dep/mar'</td>\n",
       "      <td>none</td>\n",
       "      <td>...</td>\n",
       "      <td>'real estate'</td>\n",
       "      <td>22</td>\n",
       "      <td>none</td>\n",
       "      <td>own</td>\n",
       "      <td>1</td>\n",
       "      <td>skilled</td>\n",
       "      <td>1</td>\n",
       "      <td>none</td>\n",
       "      <td>yes</td>\n",
       "      <td>bad</td>\n",
       "    </tr>\n",
       "    <tr>\n",
       "      <th>2</th>\n",
       "      <td>'no checking'</td>\n",
       "      <td>12</td>\n",
       "      <td>'critical/other existing credit'</td>\n",
       "      <td>education</td>\n",
       "      <td>2096</td>\n",
       "      <td>&lt;100</td>\n",
       "      <td>4&lt;=X&lt;7</td>\n",
       "      <td>2</td>\n",
       "      <td>'male single'</td>\n",
       "      <td>none</td>\n",
       "      <td>...</td>\n",
       "      <td>'real estate'</td>\n",
       "      <td>49</td>\n",
       "      <td>none</td>\n",
       "      <td>own</td>\n",
       "      <td>1</td>\n",
       "      <td>'unskilled resident'</td>\n",
       "      <td>2</td>\n",
       "      <td>none</td>\n",
       "      <td>yes</td>\n",
       "      <td>good</td>\n",
       "    </tr>\n",
       "    <tr>\n",
       "      <th>3</th>\n",
       "      <td>&lt;0</td>\n",
       "      <td>42</td>\n",
       "      <td>'existing paid'</td>\n",
       "      <td>furniture/equipment</td>\n",
       "      <td>7882</td>\n",
       "      <td>&lt;100</td>\n",
       "      <td>4&lt;=X&lt;7</td>\n",
       "      <td>2</td>\n",
       "      <td>'male single'</td>\n",
       "      <td>guarantor</td>\n",
       "      <td>...</td>\n",
       "      <td>'life insurance'</td>\n",
       "      <td>45</td>\n",
       "      <td>none</td>\n",
       "      <td>'for free'</td>\n",
       "      <td>1</td>\n",
       "      <td>skilled</td>\n",
       "      <td>2</td>\n",
       "      <td>none</td>\n",
       "      <td>yes</td>\n",
       "      <td>good</td>\n",
       "    </tr>\n",
       "    <tr>\n",
       "      <th>4</th>\n",
       "      <td>&lt;0</td>\n",
       "      <td>24</td>\n",
       "      <td>'delayed previously'</td>\n",
       "      <td>'new car'</td>\n",
       "      <td>4870</td>\n",
       "      <td>&lt;100</td>\n",
       "      <td>1&lt;=X&lt;4</td>\n",
       "      <td>3</td>\n",
       "      <td>'male single'</td>\n",
       "      <td>none</td>\n",
       "      <td>...</td>\n",
       "      <td>'no known property'</td>\n",
       "      <td>53</td>\n",
       "      <td>none</td>\n",
       "      <td>'for free'</td>\n",
       "      <td>2</td>\n",
       "      <td>skilled</td>\n",
       "      <td>2</td>\n",
       "      <td>none</td>\n",
       "      <td>yes</td>\n",
       "      <td>bad</td>\n",
       "    </tr>\n",
       "  </tbody>\n",
       "</table>\n",
       "<p>5 rows × 21 columns</p>\n",
       "</div>"
      ],
      "text/plain": [
       "  checking_status  duration                    credit_history  \\\n",
       "0              <0         6  'critical/other existing credit'   \n",
       "1        0<=X<200        48                   'existing paid'   \n",
       "2   'no checking'        12  'critical/other existing credit'   \n",
       "3              <0        42                   'existing paid'   \n",
       "4              <0        24              'delayed previously'   \n",
       "\n",
       "               purpose  credit_amount      savings_status employment  \\\n",
       "0             radio/tv           1169  'no known savings'        >=7   \n",
       "1             radio/tv           5951                <100     1<=X<4   \n",
       "2            education           2096                <100     4<=X<7   \n",
       "3  furniture/equipment           7882                <100     4<=X<7   \n",
       "4            'new car'           4870                <100     1<=X<4   \n",
       "\n",
       "   installment_commitment       personal_status other_parties  ...  \\\n",
       "0                       4         'male single'          none  ...   \n",
       "1                       2  'female div/dep/mar'          none  ...   \n",
       "2                       2         'male single'          none  ...   \n",
       "3                       2         'male single'     guarantor  ...   \n",
       "4                       3         'male single'          none  ...   \n",
       "\n",
       "    property_magnitude age  other_payment_plans     housing existing_credits  \\\n",
       "0        'real estate'  67                 none         own                2   \n",
       "1        'real estate'  22                 none         own                1   \n",
       "2        'real estate'  49                 none         own                1   \n",
       "3     'life insurance'  45                 none  'for free'                1   \n",
       "4  'no known property'  53                 none  'for free'                2   \n",
       "\n",
       "                    job num_dependents  own_telephone foreign_worker class  \n",
       "0               skilled              1            yes            yes  good  \n",
       "1               skilled              1           none            yes   bad  \n",
       "2  'unskilled resident'              2           none            yes  good  \n",
       "3               skilled              2           none            yes  good  \n",
       "4               skilled              2           none            yes   bad  \n",
       "\n",
       "[5 rows x 21 columns]"
      ]
     },
     "execution_count": 2,
     "metadata": {},
     "output_type": "execute_result"
    }
   ],
   "source": [
    "# Carregamento da base de dados e criação dos previsores (variáveis independentes - X) e da classe (variável dependente - y)\n",
    "diretorio_atual = os.getcwd()\n",
    "caminho_pasta_mae = os.path.abspath(os.path.join(diretorio_atual, \"..\"))\n",
    "caminho_pasta_dados = os.path.join(caminho_pasta_mae, \"dados\")\n",
    "caminho_arquivo = os.path.join(caminho_pasta_dados, \"Credit.csv\")\n",
    "credito = pd.read_csv(caminho_arquivo)\n",
    "credito.head()"
   ]
  },
  {
   "cell_type": "code",
   "execution_count": 3,
   "metadata": {
    "tags": []
   },
   "outputs": [],
   "source": [
    "previsores = credito.iloc[:,0:20].values\n",
    "classe = credito.iloc[:,20].values"
   ]
  },
  {
   "cell_type": "code",
   "execution_count": 5,
   "metadata": {
    "tags": []
   },
   "outputs": [],
   "source": [
    "# Transformação dos atributos categóricos em atributos numéricos, passando o índice de cada atributo categórico\n",
    "labelencoder = LabelEncoder()\n",
    "previsores[:,0] = labelencoder.fit_transform(previsores[:,0])\n",
    "previsores[:,2] = labelencoder.fit_transform(previsores[:,2])\n",
    "previsores[:, 3] = labelencoder.fit_transform(previsores[:, 3])\n",
    "previsores[:, 5] = labelencoder.fit_transform(previsores[:, 5])\n",
    "previsores[:, 6] = labelencoder.fit_transform(previsores[:, 6])\n",
    "previsores[:, 8] = labelencoder.fit_transform(previsores[:, 8])\n",
    "previsores[:, 9] = labelencoder.fit_transform(previsores[:, 9])\n",
    "previsores[:, 11] = labelencoder.fit_transform(previsores[:, 11])\n",
    "previsores[:, 13] = labelencoder.fit_transform(previsores[:, 13])\n",
    "previsores[:, 14] = labelencoder.fit_transform(previsores[:, 14])\n",
    "previsores[:, 16] = labelencoder.fit_transform(previsores[:, 16])\n",
    "previsores[:, 18] = labelencoder.fit_transform(previsores[:, 18])\n",
    "previsores[:, 19] = labelencoder.fit_transform(previsores[:, 19])"
   ]
  },
  {
   "cell_type": "code",
   "execution_count": 6,
   "metadata": {
    "tags": []
   },
   "outputs": [],
   "source": [
    "# Divisão da base de dados entre treinamento e teste (30% para testar e 70% para treinar)\n",
    "X_treinamento, X_teste, y_treinamento, y_teste = train_test_split(previsores,\n",
    "                                                                  classe,\n",
    "                                                                  test_size = 0.3,\n",
    "                                                                  random_state = 0)"
   ]
  },
  {
   "cell_type": "code",
   "execution_count": 19,
   "metadata": {
    "tags": []
   },
   "outputs": [
    {
     "data": {
      "text/html": [
       "<style>#sk-container-id-5 {color: black;background-color: white;}#sk-container-id-5 pre{padding: 0;}#sk-container-id-5 div.sk-toggleable {background-color: white;}#sk-container-id-5 label.sk-toggleable__label {cursor: pointer;display: block;width: 100%;margin-bottom: 0;padding: 0.3em;box-sizing: border-box;text-align: center;}#sk-container-id-5 label.sk-toggleable__label-arrow:before {content: \"▸\";float: left;margin-right: 0.25em;color: #696969;}#sk-container-id-5 label.sk-toggleable__label-arrow:hover:before {color: black;}#sk-container-id-5 div.sk-estimator:hover label.sk-toggleable__label-arrow:before {color: black;}#sk-container-id-5 div.sk-toggleable__content {max-height: 0;max-width: 0;overflow: hidden;text-align: left;background-color: #f0f8ff;}#sk-container-id-5 div.sk-toggleable__content pre {margin: 0.2em;color: black;border-radius: 0.25em;background-color: #f0f8ff;}#sk-container-id-5 input.sk-toggleable__control:checked~div.sk-toggleable__content {max-height: 200px;max-width: 100%;overflow: auto;}#sk-container-id-5 input.sk-toggleable__control:checked~label.sk-toggleable__label-arrow:before {content: \"▾\";}#sk-container-id-5 div.sk-estimator input.sk-toggleable__control:checked~label.sk-toggleable__label {background-color: #d4ebff;}#sk-container-id-5 div.sk-label input.sk-toggleable__control:checked~label.sk-toggleable__label {background-color: #d4ebff;}#sk-container-id-5 input.sk-hidden--visually {border: 0;clip: rect(1px 1px 1px 1px);clip: rect(1px, 1px, 1px, 1px);height: 1px;margin: -1px;overflow: hidden;padding: 0;position: absolute;width: 1px;}#sk-container-id-5 div.sk-estimator {font-family: monospace;background-color: #f0f8ff;border: 1px dotted black;border-radius: 0.25em;box-sizing: border-box;margin-bottom: 0.5em;}#sk-container-id-5 div.sk-estimator:hover {background-color: #d4ebff;}#sk-container-id-5 div.sk-parallel-item::after {content: \"\";width: 100%;border-bottom: 1px solid gray;flex-grow: 1;}#sk-container-id-5 div.sk-label:hover label.sk-toggleable__label {background-color: #d4ebff;}#sk-container-id-5 div.sk-serial::before {content: \"\";position: absolute;border-left: 1px solid gray;box-sizing: border-box;top: 0;bottom: 0;left: 50%;z-index: 0;}#sk-container-id-5 div.sk-serial {display: flex;flex-direction: column;align-items: center;background-color: white;padding-right: 0.2em;padding-left: 0.2em;position: relative;}#sk-container-id-5 div.sk-item {position: relative;z-index: 1;}#sk-container-id-5 div.sk-parallel {display: flex;align-items: stretch;justify-content: center;background-color: white;position: relative;}#sk-container-id-5 div.sk-item::before, #sk-container-id-5 div.sk-parallel-item::before {content: \"\";position: absolute;border-left: 1px solid gray;box-sizing: border-box;top: 0;bottom: 0;left: 50%;z-index: -1;}#sk-container-id-5 div.sk-parallel-item {display: flex;flex-direction: column;z-index: 1;position: relative;background-color: white;}#sk-container-id-5 div.sk-parallel-item:first-child::after {align-self: flex-end;width: 50%;}#sk-container-id-5 div.sk-parallel-item:last-child::after {align-self: flex-start;width: 50%;}#sk-container-id-5 div.sk-parallel-item:only-child::after {width: 0;}#sk-container-id-5 div.sk-dashed-wrapped {border: 1px dashed gray;margin: 0 0.4em 0.5em 0.4em;box-sizing: border-box;padding-bottom: 0.4em;background-color: white;}#sk-container-id-5 div.sk-label label {font-family: monospace;font-weight: bold;display: inline-block;line-height: 1.2em;}#sk-container-id-5 div.sk-label-container {text-align: center;}#sk-container-id-5 div.sk-container {/* jupyter's `normalize.less` sets `[hidden] { display: none; }` but bootstrap.min.css set `[hidden] { display: none !important; }` so we also need the `!important` here to be able to override the default hidden behavior on the sphinx rendered scikit-learn.org. See: https://github.com/scikit-learn/scikit-learn/issues/21755 */display: inline-block !important;position: relative;}#sk-container-id-5 div.sk-text-repr-fallback {display: none;}</style><div id=\"sk-container-id-5\" class=\"sk-top-container\"><div class=\"sk-text-repr-fallback\"><pre>RandomForestClassifier()</pre><b>In a Jupyter environment, please rerun this cell to show the HTML representation or trust the notebook. <br />On GitHub, the HTML representation is unable to render, please try loading this page with nbviewer.org.</b></div><div class=\"sk-container\" hidden><div class=\"sk-item\"><div class=\"sk-estimator sk-toggleable\"><input class=\"sk-toggleable__control sk-hidden--visually\" id=\"sk-estimator-id-5\" type=\"checkbox\" checked><label for=\"sk-estimator-id-5\" class=\"sk-toggleable__label sk-toggleable__label-arrow\">RandomForestClassifier</label><div class=\"sk-toggleable__content\"><pre>RandomForestClassifier()</pre></div></div></div></div></div>"
      ],
      "text/plain": [
       "RandomForestClassifier()"
      ]
     },
     "execution_count": 19,
     "metadata": {},
     "output_type": "execute_result"
    }
   ],
   "source": [
    "# Criação do modelo, treinamento, obtenção das previsões e da taxa de acerto\n",
    "floresta = RandomForestClassifier(n_estimators = 100)\n",
    "floresta.fit(X_treinamento, y_treinamento)"
   ]
  },
  {
   "cell_type": "code",
   "execution_count": 20,
   "metadata": {
    "tags": []
   },
   "outputs": [
    {
     "data": {
      "text/plain": [
       "[DecisionTreeClassifier(max_features='sqrt', random_state=1637110439),\n",
       " DecisionTreeClassifier(max_features='sqrt', random_state=88310155),\n",
       " DecisionTreeClassifier(max_features='sqrt', random_state=466731542),\n",
       " DecisionTreeClassifier(max_features='sqrt', random_state=1612946251),\n",
       " DecisionTreeClassifier(max_features='sqrt', random_state=1200881967),\n",
       " DecisionTreeClassifier(max_features='sqrt', random_state=463591785),\n",
       " DecisionTreeClassifier(max_features='sqrt', random_state=1583975297),\n",
       " DecisionTreeClassifier(max_features='sqrt', random_state=544695899),\n",
       " DecisionTreeClassifier(max_features='sqrt', random_state=953915447),\n",
       " DecisionTreeClassifier(max_features='sqrt', random_state=187983210),\n",
       " DecisionTreeClassifier(max_features='sqrt', random_state=562618938),\n",
       " DecisionTreeClassifier(max_features='sqrt', random_state=233657900),\n",
       " DecisionTreeClassifier(max_features='sqrt', random_state=1023953544),\n",
       " DecisionTreeClassifier(max_features='sqrt', random_state=779220493),\n",
       " DecisionTreeClassifier(max_features='sqrt', random_state=617968740),\n",
       " DecisionTreeClassifier(max_features='sqrt', random_state=1521513641),\n",
       " DecisionTreeClassifier(max_features='sqrt', random_state=724251965),\n",
       " DecisionTreeClassifier(max_features='sqrt', random_state=847877102),\n",
       " DecisionTreeClassifier(max_features='sqrt', random_state=2041119763),\n",
       " DecisionTreeClassifier(max_features='sqrt', random_state=2025220990),\n",
       " DecisionTreeClassifier(max_features='sqrt', random_state=800759935),\n",
       " DecisionTreeClassifier(max_features='sqrt', random_state=1344124294),\n",
       " DecisionTreeClassifier(max_features='sqrt', random_state=1803657927),\n",
       " DecisionTreeClassifier(max_features='sqrt', random_state=1517693249),\n",
       " DecisionTreeClassifier(max_features='sqrt', random_state=815585083),\n",
       " DecisionTreeClassifier(max_features='sqrt', random_state=1268242464),\n",
       " DecisionTreeClassifier(max_features='sqrt', random_state=1433175984),\n",
       " DecisionTreeClassifier(max_features='sqrt', random_state=708518574),\n",
       " DecisionTreeClassifier(max_features='sqrt', random_state=625101265),\n",
       " DecisionTreeClassifier(max_features='sqrt', random_state=1499839876),\n",
       " DecisionTreeClassifier(max_features='sqrt', random_state=1577750198),\n",
       " DecisionTreeClassifier(max_features='sqrt', random_state=2056208268),\n",
       " DecisionTreeClassifier(max_features='sqrt', random_state=1216102237),\n",
       " DecisionTreeClassifier(max_features='sqrt', random_state=885250373),\n",
       " DecisionTreeClassifier(max_features='sqrt', random_state=1235073541),\n",
       " DecisionTreeClassifier(max_features='sqrt', random_state=80005960),\n",
       " DecisionTreeClassifier(max_features='sqrt', random_state=828197189),\n",
       " DecisionTreeClassifier(max_features='sqrt', random_state=1994053176),\n",
       " DecisionTreeClassifier(max_features='sqrt', random_state=709625465),\n",
       " DecisionTreeClassifier(max_features='sqrt', random_state=1134527855),\n",
       " DecisionTreeClassifier(max_features='sqrt', random_state=913195769),\n",
       " DecisionTreeClassifier(max_features='sqrt', random_state=9319727),\n",
       " DecisionTreeClassifier(max_features='sqrt', random_state=1015420354),\n",
       " DecisionTreeClassifier(max_features='sqrt', random_state=548139040),\n",
       " DecisionTreeClassifier(max_features='sqrt', random_state=800897151),\n",
       " DecisionTreeClassifier(max_features='sqrt', random_state=975774230),\n",
       " DecisionTreeClassifier(max_features='sqrt', random_state=574812281),\n",
       " DecisionTreeClassifier(max_features='sqrt', random_state=2022668270),\n",
       " DecisionTreeClassifier(max_features='sqrt', random_state=652599835),\n",
       " DecisionTreeClassifier(max_features='sqrt', random_state=436104938),\n",
       " DecisionTreeClassifier(max_features='sqrt', random_state=1667080822),\n",
       " DecisionTreeClassifier(max_features='sqrt', random_state=1010638223),\n",
       " DecisionTreeClassifier(max_features='sqrt', random_state=1349138180),\n",
       " DecisionTreeClassifier(max_features='sqrt', random_state=153223414),\n",
       " DecisionTreeClassifier(max_features='sqrt', random_state=15155538),\n",
       " DecisionTreeClassifier(max_features='sqrt', random_state=246929746),\n",
       " DecisionTreeClassifier(max_features='sqrt', random_state=376162119),\n",
       " DecisionTreeClassifier(max_features='sqrt', random_state=1785237868),\n",
       " DecisionTreeClassifier(max_features='sqrt', random_state=1241630802),\n",
       " DecisionTreeClassifier(max_features='sqrt', random_state=1502770232),\n",
       " DecisionTreeClassifier(max_features='sqrt', random_state=953671802),\n",
       " DecisionTreeClassifier(max_features='sqrt', random_state=1520965156),\n",
       " DecisionTreeClassifier(max_features='sqrt', random_state=1854113628),\n",
       " DecisionTreeClassifier(max_features='sqrt', random_state=1316350917),\n",
       " DecisionTreeClassifier(max_features='sqrt', random_state=1577126522),\n",
       " DecisionTreeClassifier(max_features='sqrt', random_state=2029915966),\n",
       " DecisionTreeClassifier(max_features='sqrt', random_state=705554278),\n",
       " DecisionTreeClassifier(max_features='sqrt', random_state=1294729854),\n",
       " DecisionTreeClassifier(max_features='sqrt', random_state=183402512),\n",
       " DecisionTreeClassifier(max_features='sqrt', random_state=1568046441),\n",
       " DecisionTreeClassifier(max_features='sqrt', random_state=1740300519),\n",
       " DecisionTreeClassifier(max_features='sqrt', random_state=1621886392),\n",
       " DecisionTreeClassifier(max_features='sqrt', random_state=2096466741),\n",
       " DecisionTreeClassifier(max_features='sqrt', random_state=316049026),\n",
       " DecisionTreeClassifier(max_features='sqrt', random_state=653084030),\n",
       " DecisionTreeClassifier(max_features='sqrt', random_state=1932735316),\n",
       " DecisionTreeClassifier(max_features='sqrt', random_state=414613111),\n",
       " DecisionTreeClassifier(max_features='sqrt', random_state=953548696),\n",
       " DecisionTreeClassifier(max_features='sqrt', random_state=325966305),\n",
       " DecisionTreeClassifier(max_features='sqrt', random_state=598078112),\n",
       " DecisionTreeClassifier(max_features='sqrt', random_state=70249572),\n",
       " DecisionTreeClassifier(max_features='sqrt', random_state=2122542078),\n",
       " DecisionTreeClassifier(max_features='sqrt', random_state=1250332060),\n",
       " DecisionTreeClassifier(max_features='sqrt', random_state=2129601390),\n",
       " DecisionTreeClassifier(max_features='sqrt', random_state=2095073108),\n",
       " DecisionTreeClassifier(max_features='sqrt', random_state=958135021),\n",
       " DecisionTreeClassifier(max_features='sqrt', random_state=666513894),\n",
       " DecisionTreeClassifier(max_features='sqrt', random_state=1447277414),\n",
       " DecisionTreeClassifier(max_features='sqrt', random_state=1044972077),\n",
       " DecisionTreeClassifier(max_features='sqrt', random_state=661528784),\n",
       " DecisionTreeClassifier(max_features='sqrt', random_state=667208896),\n",
       " DecisionTreeClassifier(max_features='sqrt', random_state=2093161425),\n",
       " DecisionTreeClassifier(max_features='sqrt', random_state=2114533054),\n",
       " DecisionTreeClassifier(max_features='sqrt', random_state=115970851),\n",
       " DecisionTreeClassifier(max_features='sqrt', random_state=253521025),\n",
       " DecisionTreeClassifier(max_features='sqrt', random_state=1010031096),\n",
       " DecisionTreeClassifier(max_features='sqrt', random_state=458112249),\n",
       " DecisionTreeClassifier(max_features='sqrt', random_state=1283725205),\n",
       " DecisionTreeClassifier(max_features='sqrt', random_state=2129218858),\n",
       " DecisionTreeClassifier(max_features='sqrt', random_state=120260370)]"
      ]
     },
     "execution_count": 20,
     "metadata": {},
     "output_type": "execute_result"
    }
   ],
   "source": [
    "# Visualização dos atributos principais\n",
    "floresta.estimators_\n",
    "# floresta.estimators_[1]"
   ]
  },
  {
   "cell_type": "code",
   "execution_count": 21,
   "metadata": {
    "tags": []
   },
   "outputs": [
    {
     "data": {
      "text/plain": [
       "0.79"
      ]
     },
     "execution_count": 21,
     "metadata": {},
     "output_type": "execute_result"
    }
   ],
   "source": [
    "previsoes = floresta.predict(X_teste)\n",
    "confusao = confusion_matrix(y_teste, previsoes)\n",
    "taxa_acerto = accuracy_score(y_teste, previsoes)\n",
    "taxa_acerto"
   ]
  },
  {
   "cell_type": "code",
   "execution_count": null,
   "metadata": {},
   "outputs": [],
   "source": []
  }
 ],
 "metadata": {
  "jupytext": {
   "cell_metadata_filter": "-all",
   "main_language": "python",
   "notebook_metadata_filter": "-all"
  },
  "kernelspec": {
   "display_name": "Python 3 (ipykernel)",
   "language": "python",
   "name": "python3"
  },
  "language_info": {
   "codemirror_mode": {
    "name": "ipython",
    "version": 3
   },
   "file_extension": ".py",
   "mimetype": "text/x-python",
   "name": "python",
   "nbconvert_exporter": "python",
   "pygments_lexer": "ipython3",
   "version": "3.10.9"
  }
 },
 "nbformat": 4,
 "nbformat_minor": 4
}
