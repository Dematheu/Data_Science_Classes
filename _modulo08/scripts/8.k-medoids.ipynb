{
 "cells": [
  {
   "cell_type": "code",
   "execution_count": null,
   "metadata": {},
   "outputs": [],
   "source": [
    "# Formação Cientista de Dados - Fernando Amaral e Jones Granatyr\n",
    "# Agrupamento com k-medoids"
   ]
  },
  {
   "cell_type": "code",
   "execution_count": 1,
   "metadata": {
    "tags": []
   },
   "outputs": [],
   "source": [
    "# Importação das bibliotecas\n",
    "from sklearn import datasets\n",
    "from sklearn.metrics import confusion_matrix\n",
    "import numpy as np\n",
    "from pyclustering.cluster.kmedoids import kmedoids\n",
    "from pyclustering.cluster import cluster_visualizer\n",
    "#pip install pyclustering (executar no Anaconda Prompt)"
   ]
  },
  {
   "cell_type": "code",
   "execution_count": 2,
   "metadata": {
    "tags": []
   },
   "outputs": [],
   "source": [
    "# Carregamento da base de dados\n",
    "iris = datasets.load_iris()"
   ]
  },
  {
   "cell_type": "code",
   "execution_count": 29,
   "metadata": {
    "tags": []
   },
   "outputs": [
    {
     "data": {
      "text/plain": [
       "[7, 16, 27]"
      ]
     },
     "execution_count": 29,
     "metadata": {},
     "output_type": "execute_result"
    }
   ],
   "source": [
    "# Configuração dos parâmetros do k-medoids, utilizando somente as duas primeiras colunas da base de dados por causa da visualização apenas\n",
    "# 3, 12 e 20 são índices aleatórios de registros da base de dados (inicialização)\n",
    "cluster = kmedoids(iris.data[:, 0:2], [7, 16, 27])\n",
    "# Visualização dos pontos escolhidos (3, 12 e 20)\n",
    "cluster.get_medoids()"
   ]
  },
  {
   "cell_type": "code",
   "execution_count": 30,
   "metadata": {
    "tags": []
   },
   "outputs": [
    {
     "data": {
      "text/plain": [
       "[[0,\n",
       "  1,\n",
       "  2,\n",
       "  3,\n",
       "  4,\n",
       "  5,\n",
       "  6,\n",
       "  7,\n",
       "  8,\n",
       "  9,\n",
       "  10,\n",
       "  11,\n",
       "  12,\n",
       "  13,\n",
       "  14,\n",
       "  15,\n",
       "  16,\n",
       "  17,\n",
       "  18,\n",
       "  19,\n",
       "  20,\n",
       "  21,\n",
       "  22,\n",
       "  23,\n",
       "  24,\n",
       "  25,\n",
       "  26,\n",
       "  27,\n",
       "  28,\n",
       "  29,\n",
       "  30,\n",
       "  31,\n",
       "  32,\n",
       "  33,\n",
       "  34,\n",
       "  35,\n",
       "  36,\n",
       "  37,\n",
       "  38,\n",
       "  39,\n",
       "  40,\n",
       "  41,\n",
       "  42,\n",
       "  43,\n",
       "  44,\n",
       "  45,\n",
       "  46,\n",
       "  47,\n",
       "  48,\n",
       "  49,\n",
       "  106],\n",
       " [53,\n",
       "  55,\n",
       "  57,\n",
       "  59,\n",
       "  60,\n",
       "  61,\n",
       "  62,\n",
       "  63,\n",
       "  64,\n",
       "  66,\n",
       "  67,\n",
       "  68,\n",
       "  69,\n",
       "  70,\n",
       "  71,\n",
       "  72,\n",
       "  73,\n",
       "  78,\n",
       "  79,\n",
       "  80,\n",
       "  81,\n",
       "  82,\n",
       "  83,\n",
       "  84,\n",
       "  85,\n",
       "  87,\n",
       "  88,\n",
       "  89,\n",
       "  90,\n",
       "  91,\n",
       "  92,\n",
       "  93,\n",
       "  94,\n",
       "  95,\n",
       "  96,\n",
       "  97,\n",
       "  98,\n",
       "  99,\n",
       "  101,\n",
       "  113,\n",
       "  114,\n",
       "  119,\n",
       "  121,\n",
       "  123,\n",
       "  126,\n",
       "  127,\n",
       "  133,\n",
       "  134,\n",
       "  138,\n",
       "  142,\n",
       "  146,\n",
       "  149],\n",
       " [50,\n",
       "  51,\n",
       "  52,\n",
       "  54,\n",
       "  56,\n",
       "  58,\n",
       "  65,\n",
       "  74,\n",
       "  75,\n",
       "  76,\n",
       "  77,\n",
       "  86,\n",
       "  100,\n",
       "  102,\n",
       "  103,\n",
       "  104,\n",
       "  105,\n",
       "  107,\n",
       "  108,\n",
       "  109,\n",
       "  110,\n",
       "  111,\n",
       "  112,\n",
       "  115,\n",
       "  116,\n",
       "  117,\n",
       "  118,\n",
       "  120,\n",
       "  122,\n",
       "  124,\n",
       "  125,\n",
       "  128,\n",
       "  129,\n",
       "  130,\n",
       "  131,\n",
       "  132,\n",
       "  135,\n",
       "  136,\n",
       "  137,\n",
       "  139,\n",
       "  140,\n",
       "  141,\n",
       "  143,\n",
       "  144,\n",
       "  145,\n",
       "  147,\n",
       "  148]]"
      ]
     },
     "execution_count": 30,
     "metadata": {},
     "output_type": "execute_result"
    }
   ],
   "source": [
    "# Aplicação do algoritmo para o agrupamento, obtenção da previsões (grupo de cada registro) e visualização dos medoides\n",
    "cluster.process()\n",
    "previsoes = cluster.get_clusters()\n",
    "medoides = cluster.get_medoids()\n",
    "#lista de 3 elementos, com os indices dos registros do cluster\n",
    "previsoes"
   ]
  },
  {
   "cell_type": "code",
   "execution_count": 31,
   "metadata": {
    "tags": []
   },
   "outputs": [
    {
     "data": {
      "image/png": "[encoded data removed]",
      "text/plain": [
       "<Figure size 640x480 with 1 Axes>"
      ]
     },
     "metadata": {},
     "output_type": "display_data"
    },
    {
     "data": {
      "image/png": "[encoded data removed]",
      "text/plain": [
       "<Figure size 640x480 with 1 Axes>"
      ]
     },
     "execution_count": 31,
     "metadata": {},
     "output_type": "execute_result"
    }
   ],
   "source": [
    "# Visualização do agrupamento\n",
    "v = cluster_visualizer()\n",
    "v.append_clusters(previsoes, iris.data[:,0:2])\n",
    "v.append_cluster(medoides, data = iris.data[:,0:2], marker = '*', markersize = 20)\n",
    "v.show()"
   ]
  },
  {
   "cell_type": "code",
   "execution_count": 32,
   "metadata": {
    "tags": []
   },
   "outputs": [],
   "source": [
    "# Código para criar duas listas, uma com os grupos reais da base de dados e outra com os valores dos grupos\n",
    "# Utilizado posteriormente para visualização da matriz de contingência\n",
    "lista_previsoes = []\n",
    "lista_real = []\n",
    "for i in range(len(previsoes)):\n",
    "     for j in range(len(previsoes[i])):\n",
    "        lista_previsoes.append(i)\n",
    "        lista_real.append(iris.target[previsoes[i][j]])"
   ]
  },
  {
   "cell_type": "code",
   "execution_count": 33,
   "metadata": {
    "lines_to_next_cell": 2,
    "tags": []
   },
   "outputs": [
    {
     "data": {
      "text/plain": [
       "array([[50,  0,  0],\n",
       "       [ 0, 38, 12],\n",
       "       [ 1, 14, 35]], dtype=int64)"
      ]
     },
     "execution_count": 33,
     "metadata": {},
     "output_type": "execute_result"
    }
   ],
   "source": [
    "# Geração da matriz de contingência, comparando os grupos reais com os grupos previstos\n",
    "lista_previsoes = np.asarray(lista_previsoes)\n",
    "lista_real = np.asarray(lista_real)\n",
    "resultados = confusion_matrix(lista_real, lista_previsoes)\n",
    "resultados"
   ]
  },
  {
   "cell_type": "code",
   "execution_count": null,
   "metadata": {},
   "outputs": [],
   "source": []
  }
 ],
 "metadata": {
  "jupytext": {
   "cell_metadata_filter": "-all",
   "main_language": "python",
   "notebook_metadata_filter": "-all"
  },
  "kernelspec": {
   "display_name": "Python 3 (ipykernel)",
   "language": "python",
   "name": "python3"
  },
  "language_info": {
   "codemirror_mode": {
    "name": "ipython",
    "version": 3
   },
   "file_extension": ".py",
   "mimetype": "text/x-python",
   "name": "python",
   "nbconvert_exporter": "python",
   "pygments_lexer": "ipython3",
   "version": "3.10.9"
  }
 },
 "nbformat": 4,
 "nbformat_minor": 4
}
